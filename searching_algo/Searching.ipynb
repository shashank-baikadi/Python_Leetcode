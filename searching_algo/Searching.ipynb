{
 "cells": [
  {
   "cell_type": "code",
   "execution_count": 3,
   "metadata": {},
   "outputs": [
    {
     "name": "stdout",
     "output_type": "stream",
     "text": [
      "Found at 8\n"
     ]
    }
   ],
   "source": [
    "# binary search - if you want to apply binary search all the value should be in sorted order eg 1,2,3,4,5,6,7,8,9,10\n",
    "# l=lower bound\n",
    "# u=upper bound\n",
    "# mid=middle value\n",
    "# if mid value is equal to the value that you are searching then it will return True\n",
    "# if mid value is less than the value that you are searching then l=mid+1\n",
    "# if mid value is greater than the value that you are searching then u=mid-1\n",
    "# if the value is not found then it will return False\n",
    "# pos is the position of the value that you are searching\n",
    "# if the value is found then it will print the position of the value\n",
    "# if the value is not found then it will print Not Found\n",
    "# list is the list of values\n",
    "# n is the value that you are searching\n",
    "# search is the function that will search the value that you are searching\n",
    "# list=[4,7,8,12,45,99,102,702,10987,56666] is the list of values\n",
    "# n=702 is the value that you are searching\n",
    "# if search(list,n) is True then it will print the position of the value\n",
    "# if search(list,n) is False then it will print Not Found\n",
    "\n",
    "\n",
    "pos =-1\n",
    "def search(list,n):\n",
    "    l=0\n",
    "    u=len(list)-1\n",
    "    while l<=u:\n",
    "        mid=(l+u)//2\n",
    "        if list[mid]==n:\n",
    "            globals()['pos']=mid\n",
    "            return True\n",
    "        else:\n",
    "            if list[mid]<n:\n",
    "                l=mid+1\n",
    "            else:\n",
    "                u=mid-1\n",
    "    return False\n",
    "\n",
    "list=[4,7,8,12,45,99,102,702,10987,56666]\n",
    "n=702\n",
    "if search(list,n):\n",
    "    print(\"Found at\",pos+1)\n",
    "else:\n",
    "    print(\"Not Found\")\n"
   ]
  },
  {
   "cell_type": "code",
   "execution_count": null,
   "metadata": {},
   "outputs": [],
   "source": [
    "#linear search - if you want to apply linear search then the value can be in any order\n",
    "# pos is the position of the value that you are searching\n",
    "# if the value is found then it will print the position of the value\n",
    "# if the value is not found then it will print Not Found\n",
    "# list is the list of values\n",
    "# n is the value that you are searching\n",
    "# search is the function that will search the value that you are searching\n",
    "# list=[4,7,8,12,45,99,102,702,10987,56666] is the list of values\n",
    "# n=702 is the value that you are searching\n",
    "# if search(list,n) is True then it will print the position of the value\n",
    "# if search(list,n) is False then it will print Not Found\n",
    "\n",
    "\n",
    "pos =-1\n",
    "def search(list,n):\n",
    "    i=0\n",
    "    while i<len(list):\n",
    "        if list[i]==n:\n",
    "            globals()['pos']=i\n",
    "            return True\n",
    "        i=i+1\n",
    "    return False\n",
    "\n",
    "list=[4,7,8,12,45,99,102,702,10987,56666]\n",
    "n=702\n",
    "if search(list,n):\n",
    "    print(\"Found at\",pos+1)\n",
    "else:\n",
    "    print(\"Not Found\")\n",
    "\n",
    "# if you want to apply linear search then you can use the above code"
   ]
  }
 ],
 "metadata": {
  "kernelspec": {
   "display_name": "Python 3",
   "language": "python",
   "name": "python3"
  },
  "language_info": {
   "codemirror_mode": {
    "name": "ipython",
    "version": 3
   },
   "file_extension": ".py",
   "mimetype": "text/x-python",
   "name": "python",
   "nbconvert_exporter": "python",
   "pygments_lexer": "ipython3",
   "version": "3.11.5"
  }
 },
 "nbformat": 4,
 "nbformat_minor": 2
}
