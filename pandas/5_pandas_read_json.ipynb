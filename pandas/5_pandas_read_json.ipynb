{
 "cells": [
  {
   "cell_type": "code",
   "execution_count": 5,
   "metadata": {},
   "outputs": [
    {
     "name": "stdout",
     "output_type": "stream",
     "text": [
      "   durations  Maxpluses  Maxminuses\n",
      "1          1         11         111\n",
      "2          2         22         222\n",
      "3          3         33         333\n",
      "4          4         44         444\n",
      "5          5         55         555\n"
     ]
    }
   ],
   "source": [
    "#json :Big data sets normally stored as extracted as json.json is a plain text,but it has a format of an object.\n",
    "# Loading the json into a dataframe\n",
    "\n",
    "import pandas as pd\n",
    "shashank=pd.read_json('./data.json')\n",
    "print(shashank.to_string())"
   ]
  },
  {
   "cell_type": "code",
   "execution_count": 6,
   "metadata": {},
   "outputs": [
    {
     "name": "stdout",
     "output_type": "stream",
     "text": [
      "   durations  Maxpluses  Maxminuses\n",
      "1          1         11         111\n",
      "2          2         22         222\n",
      "3          3         33         333\n",
      "4          4         44         444\n",
      "5          5         55         555\n"
     ]
    }
   ],
   "source": [
    "import pandas as pd\n",
    "data={\n",
    "    \"durations\": {\n",
    "        \"1\": 1,\n",
    "        \"2\": 2,\n",
    "        \"3\": 3,\n",
    "        \"4\": 4,\n",
    "        \"5\": 5\n",
    "    },\n",
    "    \"Maxpluses\": {\n",
    "        \"1\": 11,\n",
    "        \"2\": 22,\n",
    "        \"3\": 33,\n",
    "        \"4\": 44,\n",
    "        \"5\": 55\n",
    "    },\n",
    "    \"Maxminuses\": {\n",
    "        \"1\": 111,\n",
    "        \"2\": 222,\n",
    "        \"3\": 333,\n",
    "        \"4\": 444,\n",
    "        \"5\": 555,\n",
    "        \"6\": 6\n",
    "    }\n",
    "}\n",
    "\n",
    "shashank=pd.DataFrame(data)\n",
    "print(shashank)"
   ]
  }
 ],
 "metadata": {
  "kernelspec": {
   "display_name": "Python 3",
   "language": "python",
   "name": "python3"
  },
  "language_info": {
   "codemirror_mode": {
    "name": "ipython",
    "version": 3
   },
   "file_extension": ".py",
   "mimetype": "text/x-python",
   "name": "python",
   "nbconvert_exporter": "python",
   "pygments_lexer": "ipython3",
   "version": "3.11.5"
  }
 },
 "nbformat": 4,
 "nbformat_minor": 2
}
