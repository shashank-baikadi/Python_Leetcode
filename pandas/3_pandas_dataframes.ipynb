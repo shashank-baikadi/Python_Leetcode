{
 "cells": [
  {
   "cell_type": "code",
   "execution_count": 1,
   "metadata": {},
   "outputs": [
    {
     "name": "stdout",
     "output_type": "stream",
     "text": [
      "   cal  dur\n",
      "0  420  120\n",
      "1  380  180\n",
      "2  460  240\n"
     ]
    }
   ],
   "source": [
    "import pandas as pd\n",
    "data={\"cal\":[420,380,460],\"dur\":[120,180,240]}\n",
    "shashank=pd.DataFrame(data )\n",
    "print(shashank)\n"
   ]
  },
  {
   "cell_type": "markdown",
   "metadata": {},
   "source": [
    "DataFrame -its a 2d array structure like 2d array with tabel included rows and columns "
   ]
  },
  {
   "cell_type": "code",
   "execution_count": 4,
   "metadata": {},
   "outputs": [
    {
     "name": "stdout",
     "output_type": "stream",
     "text": [
      "   cal  dur\n",
      "0  420  120\n",
      "1  380  180\n"
     ]
    }
   ],
   "source": [
    "import pandas as pd\n",
    "data={\"cal\":[420,380,460],\"dur\":[120,180,240]}\n",
    "shashank=pd.DataFrame(data )\n",
    "print(shashank.loc[[0,1]])\n"
   ]
  },
  {
   "cell_type": "markdown",
   "metadata": {},
   "source": [
    "Locate row - pandas use the loc attribute to return one or more specified row"
   ]
  },
  {
   "cell_type": "markdown",
   "metadata": {},
   "source": [
    "named index- wit the index arg ,you can name your own index"
   ]
  },
  {
   "cell_type": "code",
   "execution_count": 7,
   "metadata": {},
   "outputs": [
    {
     "name": "stdout",
     "output_type": "stream",
     "text": [
      "cal    380\n",
      "dur    180\n",
      "Name: day2, dtype: int64\n"
     ]
    }
   ],
   "source": [
    "import pandas as pd\n",
    "data={\"cal\":[420,380,460],\"dur\":[120,180,240]}\n",
    "shashank=pd.DataFrame(data ,index=[\"day1\",\"day2\",\"day3\"])\n",
    "print(shashank.loc['day2'])\n",
    "# output is in series order"
   ]
  },
  {
   "cell_type": "code",
   "execution_count": 8,
   "metadata": {},
   "outputs": [
    {
     "name": "stdout",
     "output_type": "stream",
     "text": [
      "      cal  dur\n",
      "day1  420  120\n"
     ]
    }
   ],
   "source": [
    "import pandas as pd\n",
    "data={\"cal\":[420,380,460],\"dur\":[120,180,240]}\n",
    "shashank=pd.DataFrame(data ,index=[\"day1\",\"day2\",\"day3\"])\n",
    "print(shashank.loc[['day1']])\n",
    "# output is in dataframe    order"
   ]
  }
 ],
 "metadata": {
  "kernelspec": {
   "display_name": "Python 3",
   "language": "python",
   "name": "python3"
  },
  "language_info": {
   "codemirror_mode": {
    "name": "ipython",
    "version": 3
   },
   "file_extension": ".py",
   "mimetype": "text/x-python",
   "name": "python",
   "nbconvert_exporter": "python",
   "pygments_lexer": "ipython3",
   "version": "3.11.5"
  }
 },
 "nbformat": 4,
 "nbformat_minor": 2
}
