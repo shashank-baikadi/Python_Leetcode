{
 "cells": [
  {
   "cell_type": "code",
   "execution_count": 6,
   "metadata": {},
   "outputs": [
    {
     "name": "stdout",
     "output_type": "stream",
     "text": [
      "   total_bill   tip     sex smoker  day    time  size\n",
      "0       16.99  1.01  Female     No  Sun  Dinner     2\n",
      "1       10.34  1.66    Male     No  Sun  Dinner     3\n",
      "2       21.01  3.50    Male     No  Sun  Dinner     3\n",
      "3       23.68  3.31    Male     No  Sun  Dinner     2\n",
      "4       24.59  3.61  Female     No  Sun  Dinner     4\n",
      "5       25.29  4.71    Male     No  Sun  Dinner     4\n",
      "6        8.77  2.00    Male     No  Sun  Dinner     2\n",
      "7       26.88  3.12    Male     No  Sun  Dinner     4\n",
      "8       15.04  1.96    Male     No  Sun  Dinner     2\n",
      "9       14.78  3.23    Male     No  Sun  Dinner     2 prints first 10 rows \n",
      "     total_bill   tip     sex smoker   day    time  size\n",
      "234       15.53  3.00    Male    Yes   Sat  Dinner     2\n",
      "235       10.07  1.25    Male     No   Sat  Dinner     2\n",
      "236       12.60  1.00    Male    Yes   Sat  Dinner     2\n",
      "237       32.83  1.17    Male    Yes   Sat  Dinner     2\n",
      "238       35.83  4.67  Female     No   Sat  Dinner     3\n",
      "239       29.03  5.92    Male     No   Sat  Dinner     3\n",
      "240       27.18  2.00  Female    Yes   Sat  Dinner     2\n",
      "241       22.67  2.00    Male    Yes   Sat  Dinner     2\n",
      "242       17.82  1.75    Male     No   Sat  Dinner     2\n",
      "243       18.78  3.00  Female     No  Thur  Dinner     2 prints last 10 rows \n"
     ]
    }
   ],
   "source": [
    "# here we will print the 1st 10 rows in the dataframe.\n",
    "\n",
    "import pandas as pd\n",
    "shared=pd.read_csv('10_tips.csv')\n",
    "print(shared.head(10),'prints first 10 rows ')\n",
    "print(shared.tail(10),'prints last 10 rows ')"
   ]
  },
  {
   "cell_type": "markdown",
   "metadata": {},
   "source": [
    "Viewing data :one of the most used method for a quick overview of the datafeame is the head() method this methods returns the headers and a specific number of rows."
   ]
  },
  {
   "cell_type": "code",
   "execution_count": 7,
   "metadata": {},
   "outputs": [
    {
     "name": "stdout",
     "output_type": "stream",
     "text": [
      "<class 'pandas.core.frame.DataFrame'>\n",
      "RangeIndex: 244 entries, 0 to 243\n",
      "Data columns (total 7 columns):\n",
      " #   Column      Non-Null Count  Dtype  \n",
      "---  ------      --------------  -----  \n",
      " 0   total_bill  244 non-null    float64\n",
      " 1   tip         244 non-null    float64\n",
      " 2   sex         244 non-null    object \n",
      " 3   smoker      244 non-null    object \n",
      " 4   day         244 non-null    object \n",
      " 5   time        244 non-null    object \n",
      " 6   size        244 non-null    int64  \n",
      "dtypes: float64(2), int64(1), object(4)\n",
      "memory usage: 13.5+ KB\n",
      "None\n"
     ]
    }
   ],
   "source": [
    "import pandas as pd\n",
    "df=pd.read_csv('10_tips.csv')\n",
    "print(df.info())"
   ]
  }
 ],
 "metadata": {
  "kernelspec": {
   "display_name": "Python 3",
   "language": "python",
   "name": "python3"
  },
  "language_info": {
   "codemirror_mode": {
    "name": "ipython",
    "version": 3
   },
   "file_extension": ".py",
   "mimetype": "text/x-python",
   "name": "python",
   "nbconvert_exporter": "python",
   "pygments_lexer": "ipython3",
   "version": "3.11.5"
  }
 },
 "nbformat": 4,
 "nbformat_minor": 2
}
